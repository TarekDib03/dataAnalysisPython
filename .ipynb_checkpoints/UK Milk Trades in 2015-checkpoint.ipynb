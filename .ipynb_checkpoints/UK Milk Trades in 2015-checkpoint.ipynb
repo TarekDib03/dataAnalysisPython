{
 "cells": [
  {
   "cell_type": "markdown",
   "metadata": {},
   "source": [
    "## Project 4: Exploring the UK's milk imports and exports\n",
    "\n",
    "by Tony Hirst, Michel Wermelinger and Tarek Dib, 19 November 2015 and 28 March 2016 and 8 July 2016\n",
    "\n",
    "This is the project notebook for Week 4 of The Open University's [_Learn to Code for Data Analysis_](http://futurelearn.com/courses/learn-to-code) course."
   ]
  },
  {
   "cell_type": "markdown",
   "metadata": {},
   "source": [
    "A country's economy depends, sometimes heavily, on its exports and imports. The United Nations Comtrade database provides data on global trade. It will be used to analyse the UK's imports and exports of milk and cream in 2015:\n",
    "\n",
    "- How much does the UK export and import and is the balance positive (more exports than imports)? \n",
    "- Which are the main trading partners, i.e. from/to which countries does the UK import/export the most?\n",
    "- Which are the regular customers, i.e. which countries buy milk from the UK every month?\n",
    "- Which countries does the UK both import from and export to?"
   ]
  },
  {
   "cell_type": "code",
   "execution_count": 1,
   "metadata": {
    "activity": false,
    "collapsed": false
   },
   "outputs": [],
   "source": [
    "import warnings\n",
    "warnings.simplefilter('ignore', FutureWarning)\n",
    "\n",
    "from pandas import *\n",
    "%matplotlib inline"
   ]
  },
  {
   "cell_type": "markdown",
   "metadata": {},
   "source": [
    "## Getting and Preparing the data\n",
    "\n",
    "The data is obtained from the [United Nations Comtrade](http://comtrade.un.org/data/) website, by selecting the following configuration:\n",
    "\n",
    "- Type of Product: goods\n",
    "- Frequency: monthly \n",
    "- Periods: January to May of 2015\n",
    "- Reporter: United Kingdom\n",
    "- Partners: all\n",
    "- Flows: imports and exports\n",
    "- HS (as reported) commodity codes: 0401 (Milk and cream, neither concentrated nor sweetened) and 0402 (Milk and cream, concentrated or sweetened)\n",
    "\n",
    "Clicking on 'Preview' results in a message that the data exceed 500 rows. Data were downloaded using the view api call button. The \"View API Call\" URL is modified in two ways:\n",
    "\n",
    "- `max=500` is increased to `max=5000` to make sure all data is loaded,\n",
    "- `&fmt=csv` is added at the end to obtain the data in CSV format."
   ]
  },
  {
   "cell_type": "code",
   "execution_count": 2,
   "metadata": {
    "collapsed": true
   },
   "outputs": [],
   "source": [
    "LOCATION = 'http://comtrade.un.org/api/get?max=5000&type=C&freq=M&px=HS&ps=2015&r=826&p=all&rg=1%2C2&cc=0401%2C0402&fmt=csv'"
   ]
  },
  {
   "cell_type": "markdown",
   "metadata": {},
   "source": [
    "On reading in the data, the commodity code has to be read as a string, to not lose the leading zero."
   ]
  },
  {
   "cell_type": "code",
   "execution_count": 3,
   "metadata": {
    "activity": false,
    "collapsed": false
   },
   "outputs": [
    {
     "data": {
      "text/html": [
       "<div>\n",
       "<table border=\"1\" class=\"dataframe\">\n",
       "  <thead>\n",
       "    <tr style=\"text-align: right;\">\n",
       "      <th></th>\n",
       "      <th>Classification</th>\n",
       "      <th>Year</th>\n",
       "      <th>Period</th>\n",
       "      <th>Period Desc.</th>\n",
       "      <th>Aggregate Level</th>\n",
       "      <th>Is Leaf Code</th>\n",
       "      <th>Trade Flow Code</th>\n",
       "      <th>Trade Flow</th>\n",
       "      <th>Reporter Code</th>\n",
       "      <th>Reporter</th>\n",
       "      <th>...</th>\n",
       "      <th>Qty</th>\n",
       "      <th>Alt Qty Unit Code</th>\n",
       "      <th>Alt Qty Unit</th>\n",
       "      <th>Alt Qty</th>\n",
       "      <th>Netweight (kg)</th>\n",
       "      <th>Gross weight (kg)</th>\n",
       "      <th>Trade Value (US$)</th>\n",
       "      <th>CIF Trade Value (US$)</th>\n",
       "      <th>FOB Trade Value (US$)</th>\n",
       "      <th>Flag</th>\n",
       "    </tr>\n",
       "  </thead>\n",
       "  <tbody>\n",
       "    <tr>\n",
       "      <th>1553</th>\n",
       "      <td>HS</td>\n",
       "      <td>2015</td>\n",
       "      <td>201512</td>\n",
       "      <td>December 2015</td>\n",
       "      <td>4</td>\n",
       "      <td>0</td>\n",
       "      <td>2</td>\n",
       "      <td>Exports</td>\n",
       "      <td>826</td>\n",
       "      <td>United Kingdom</td>\n",
       "      <td>...</td>\n",
       "      <td>NaN</td>\n",
       "      <td>NaN</td>\n",
       "      <td>NaN</td>\n",
       "      <td>NaN</td>\n",
       "      <td>150000</td>\n",
       "      <td>NaN</td>\n",
       "      <td>610843</td>\n",
       "      <td>NaN</td>\n",
       "      <td>NaN</td>\n",
       "      <td>0</td>\n",
       "    </tr>\n",
       "    <tr>\n",
       "      <th>1554</th>\n",
       "      <td>HS</td>\n",
       "      <td>2015</td>\n",
       "      <td>201512</td>\n",
       "      <td>December 2015</td>\n",
       "      <td>4</td>\n",
       "      <td>0</td>\n",
       "      <td>2</td>\n",
       "      <td>Exports</td>\n",
       "      <td>826</td>\n",
       "      <td>United Kingdom</td>\n",
       "      <td>...</td>\n",
       "      <td>NaN</td>\n",
       "      <td>NaN</td>\n",
       "      <td>NaN</td>\n",
       "      <td>NaN</td>\n",
       "      <td>200000</td>\n",
       "      <td>NaN</td>\n",
       "      <td>463143</td>\n",
       "      <td>NaN</td>\n",
       "      <td>NaN</td>\n",
       "      <td>0</td>\n",
       "    </tr>\n",
       "  </tbody>\n",
       "</table>\n",
       "<p>2 rows × 35 columns</p>\n",
       "</div>"
      ],
      "text/plain": [
       "     Classification  Year  Period   Period Desc.  Aggregate Level  \\\n",
       "1553             HS  2015  201512  December 2015                4   \n",
       "1554             HS  2015  201512  December 2015                4   \n",
       "\n",
       "      Is Leaf Code  Trade Flow Code Trade Flow  Reporter Code        Reporter  \\\n",
       "1553             0                2    Exports            826  United Kingdom   \n",
       "1554             0                2    Exports            826  United Kingdom   \n",
       "\n",
       "      ...   Qty  Alt Qty Unit Code Alt Qty Unit  Alt Qty  Netweight (kg)  \\\n",
       "1553  ...   NaN                NaN          NaN      NaN          150000   \n",
       "1554  ...   NaN                NaN          NaN      NaN          200000   \n",
       "\n",
       "      Gross weight (kg)  Trade Value (US$)  CIF Trade Value (US$)  \\\n",
       "1553                NaN             610843                    NaN   \n",
       "1554                NaN             463143                    NaN   \n",
       "\n",
       "      FOB Trade Value (US$)  Flag  \n",
       "1553                    NaN     0  \n",
       "1554                    NaN     0  \n",
       "\n",
       "[2 rows x 35 columns]"
      ]
     },
     "execution_count": 3,
     "metadata": {},
     "output_type": "execute_result"
    }
   ],
   "source": [
    "milk = read_csv(LOCATION, dtype={'Commodity Code':str})\n",
    "milk.tail(2)"
   ]
  },
  {
   "cell_type": "markdown",
   "metadata": {},
   "source": [
    "Most columns are irrelevant for this analysis, or contain always the same value, like the year and reporter columns. The commodity code is transformed into a short but descriptive text and only the relevant columns are selected."
   ]
  },
  {
   "cell_type": "code",
   "execution_count": 4,
   "metadata": {
    "activity": false,
    "collapsed": false
   },
   "outputs": [
    {
     "data": {
      "text/html": [
       "<div>\n",
       "<table border=\"1\" class=\"dataframe\">\n",
       "  <thead>\n",
       "    <tr style=\"text-align: right;\">\n",
       "      <th></th>\n",
       "      <th>Period</th>\n",
       "      <th>Partner</th>\n",
       "      <th>Trade Flow</th>\n",
       "      <th>Milk and cream</th>\n",
       "      <th>Trade Value (US$)</th>\n",
       "    </tr>\n",
       "  </thead>\n",
       "  <tbody>\n",
       "    <tr>\n",
       "      <th>0</th>\n",
       "      <td>201501</td>\n",
       "      <td>World</td>\n",
       "      <td>Imports</td>\n",
       "      <td>unprocessed</td>\n",
       "      <td>14104602</td>\n",
       "    </tr>\n",
       "    <tr>\n",
       "      <th>1</th>\n",
       "      <td>201501</td>\n",
       "      <td>Belgium</td>\n",
       "      <td>Imports</td>\n",
       "      <td>unprocessed</td>\n",
       "      <td>1424271</td>\n",
       "    </tr>\n",
       "    <tr>\n",
       "      <th>2</th>\n",
       "      <td>201501</td>\n",
       "      <td>Denmark</td>\n",
       "      <td>Imports</td>\n",
       "      <td>unprocessed</td>\n",
       "      <td>2546959</td>\n",
       "    </tr>\n",
       "    <tr>\n",
       "      <th>3</th>\n",
       "      <td>201501</td>\n",
       "      <td>France</td>\n",
       "      <td>Imports</td>\n",
       "      <td>unprocessed</td>\n",
       "      <td>1052140</td>\n",
       "    </tr>\n",
       "    <tr>\n",
       "      <th>4</th>\n",
       "      <td>201501</td>\n",
       "      <td>Germany</td>\n",
       "      <td>Imports</td>\n",
       "      <td>unprocessed</td>\n",
       "      <td>633626</td>\n",
       "    </tr>\n",
       "  </tbody>\n",
       "</table>\n",
       "</div>"
      ],
      "text/plain": [
       "   Period  Partner Trade Flow Milk and cream  Trade Value (US$)\n",
       "0  201501    World    Imports    unprocessed           14104602\n",
       "1  201501  Belgium    Imports    unprocessed            1424271\n",
       "2  201501  Denmark    Imports    unprocessed            2546959\n",
       "3  201501   France    Imports    unprocessed            1052140\n",
       "4  201501  Germany    Imports    unprocessed             633626"
      ]
     },
     "execution_count": 4,
     "metadata": {},
     "output_type": "execute_result"
    }
   ],
   "source": [
    "def milkType(code):\n",
    "    if code == '0401': # neither concentrated nor sweetened\n",
    "        return 'unprocessed'\n",
    "    if code == '0402': # concentrated or sweetened\n",
    "        return 'processed' \n",
    "    return 'unknown'\n",
    "\n",
    "COMMODITY = 'Milk and cream'\n",
    "# Use the apply() method to change each cell in the commodity code accordingly\n",
    "milk[COMMODITY] = milk['Commodity Code'].apply(milkType)\n",
    "MONTH = 'Period'\n",
    "PARTNER = 'Partner'\n",
    "FLOW = 'Trade Flow'\n",
    "VALUE = 'Trade Value (US$)'\n",
    "headings = [MONTH, PARTNER, FLOW, COMMODITY, VALUE]\n",
    "milk = milk[headings]\n",
    "milk.head()"
   ]
  },
  {
   "cell_type": "markdown",
   "metadata": {},
   "source": [
    "The data contains the total imports and exports per month, under the 'World' partner. Those rows are removed to keep only the per-country data."
   ]
  },
  {
   "cell_type": "code",
   "execution_count": 5,
   "metadata": {
    "activity": false,
    "collapsed": false
   },
   "outputs": [
    {
     "data": {
      "text/html": [
       "<div>\n",
       "<table border=\"1\" class=\"dataframe\">\n",
       "  <thead>\n",
       "    <tr style=\"text-align: right;\">\n",
       "      <th></th>\n",
       "      <th>Period</th>\n",
       "      <th>Partner</th>\n",
       "      <th>Trade Flow</th>\n",
       "      <th>Milk and cream</th>\n",
       "      <th>Trade Value (US$)</th>\n",
       "    </tr>\n",
       "  </thead>\n",
       "  <tbody>\n",
       "    <tr>\n",
       "      <th>1</th>\n",
       "      <td>201501</td>\n",
       "      <td>Belgium</td>\n",
       "      <td>Imports</td>\n",
       "      <td>unprocessed</td>\n",
       "      <td>1424271</td>\n",
       "    </tr>\n",
       "    <tr>\n",
       "      <th>2</th>\n",
       "      <td>201501</td>\n",
       "      <td>Denmark</td>\n",
       "      <td>Imports</td>\n",
       "      <td>unprocessed</td>\n",
       "      <td>2546959</td>\n",
       "    </tr>\n",
       "    <tr>\n",
       "      <th>3</th>\n",
       "      <td>201501</td>\n",
       "      <td>France</td>\n",
       "      <td>Imports</td>\n",
       "      <td>unprocessed</td>\n",
       "      <td>1052140</td>\n",
       "    </tr>\n",
       "    <tr>\n",
       "      <th>4</th>\n",
       "      <td>201501</td>\n",
       "      <td>Germany</td>\n",
       "      <td>Imports</td>\n",
       "      <td>unprocessed</td>\n",
       "      <td>633626</td>\n",
       "    </tr>\n",
       "    <tr>\n",
       "      <th>5</th>\n",
       "      <td>201501</td>\n",
       "      <td>Ireland</td>\n",
       "      <td>Imports</td>\n",
       "      <td>unprocessed</td>\n",
       "      <td>6635455</td>\n",
       "    </tr>\n",
       "  </tbody>\n",
       "</table>\n",
       "</div>"
      ],
      "text/plain": [
       "   Period  Partner Trade Flow Milk and cream  Trade Value (US$)\n",
       "1  201501  Belgium    Imports    unprocessed            1424271\n",
       "2  201501  Denmark    Imports    unprocessed            2546959\n",
       "3  201501   France    Imports    unprocessed            1052140\n",
       "4  201501  Germany    Imports    unprocessed             633626\n",
       "5  201501  Ireland    Imports    unprocessed            6635455"
      ]
     },
     "execution_count": 5,
     "metadata": {},
     "output_type": "execute_result"
    }
   ],
   "source": [
    "milk = milk[milk[PARTNER] != 'World']\n",
    "milk.head()"
   ]
  },
  {
   "cell_type": "markdown",
   "metadata": {},
   "source": [
    "## Total trade flow\n",
    "\n",
    "To answer the first question, 'how much does the UK export and import and is the balance positive (more exports than imports)?',\n",
    "the dataframe is split into two groups: exports from the UK and imports into the UK. The  trade values within each group are summed up to get the total trading."
   ]
  },
  {
   "cell_type": "code",
   "execution_count": 17,
   "metadata": {
    "activity": false,
    "collapsed": false
   },
   "outputs": [
    {
     "data": {
      "text/plain": [
       "<matplotlib.text.Text at 0x83bcef0>"
      ]
     },
     "execution_count": 17,
     "metadata": {},
     "output_type": "execute_result"
    },
    {
     "data": {
      "image/png": "[encoded data removed]",
      "text/plain": [
       "<matplotlib.figure.Figure at 0x8388fd0>"
      ]
     },
     "metadata": {},
     "output_type": "display_data"
    }
   ],
   "source": [
    "# Group by Trade Flow\n",
    "grouped = milk.groupby([FLOW])\n",
    "def millions(value):\n",
    "    return round(value/(10**6))\n",
    "\n",
    "trades = grouped[VALUE].aggregate(sum).apply(millions)\n",
    "ax = trades.plot(kind='barh', figsize=(10,5), title = \"Imports and Exports of proccessed and Unprocessed Milk\\n\\\n",
    "   into and off the United Kingdom in 2015\")\n",
    "ax.set_xlabel(\"Trade Values in millions of Dollars\")"
   ]
  },
  {
   "cell_type": "markdown",
   "metadata": {},
   "source": [
    "It is clear that there is a surplus in 2015 regarding the trade flow of proccessed and unprocessed milk into and off the United Kingdom."
   ]
  },
  {
   "cell_type": "code",
   "execution_count": 7,
   "metadata": {
    "collapsed": false
   },
   "outputs": [
    {
     "name": "stdout",
     "output_type": "stream",
     "text": [
      "The trade suplus of milk trade off in the UK in 2015 is about 247 million dollars.\n"
     ]
    }
   ],
   "source": [
    "SURPLUS = grouped[VALUE].aggregate(sum)[0] - grouped[VALUE].aggregate(sum)[1]\n",
    "print ('The trade suplus of milk trade off in the UK in 2015 is about %s' % \"{:,}\".format(int(SURPLUS/10**6)),\\\n",
    "       \"million dollars.\")"
   ]
  },
  {
   "cell_type": "markdown",
   "metadata": {},
   "source": [
    "## Main trade partners\n",
    "\n",
    "To address the second question, 'Which are the main trading partners, i.e. from/to which countries does the UK import/export the most?', the dataframe is split by country instead, and then each group aggregated for the total trade value. This is done separately for imports and exports. The result is sorted in descending order so that the main partners are at the top."
   ]
  },
  {
   "cell_type": "markdown",
   "metadata": {},
   "source": [
    "#### Imports"
   ]
  },
  {
   "cell_type": "code",
   "execution_count": 20,
   "metadata": {
    "activity": false,
    "collapsed": false
   },
   "outputs": [
    {
     "name": "stdout",
     "output_type": "stream",
     "text": [
      "The UK imports from 24 countries.\n",
      "The 5 biggest exporters to the UK are:\n"
     ]
    },
    {
     "data": {
      "text/plain": [
       "Partner\n",
       "Ireland        118\n",
       "France          69\n",
       "Germany         49\n",
       "Netherlands     43\n",
       "Denmark         35\n",
       "Name: Trade Value (Millions $), dtype: float64"
      ]
     },
     "execution_count": 20,
     "metadata": {},
     "output_type": "execute_result"
    }
   ],
   "source": [
    "VALUE = 'Trade Value (Millions $)'\n",
    "milk[VALUE] = milk['Trade Value (US$)']\n",
    "imports = milk[milk[FLOW] == 'Imports']\n",
    "grouped = imports.groupby([PARTNER])\n",
    "print('The UK imports from', len(grouped), 'countries.')\n",
    "print('The 5 biggest exporters to the UK are:')\n",
    "totalImports = grouped[VALUE].aggregate(sum).apply(millions).sort(inplace=False,ascending=False)\n",
    "totalImports.head()"
   ]
  },
  {
   "cell_type": "code",
   "execution_count": 32,
   "metadata": {
    "collapsed": false
   },
   "outputs": [
    {
     "data": {
      "text/plain": [
       "<matplotlib.text.Text at 0x83c8950>"
      ]
     },
     "execution_count": 32,
     "metadata": {},
     "output_type": "execute_result"
    },
    {
     "data": {
      "image/png": "[encoded data removed]",
      "text/plain": [
       "<matplotlib.figure.Figure at 0xa361210>"
      ]
     },
     "metadata": {},
     "output_type": "display_data"
    }
   ],
   "source": [
    "import matplotlib.pyplot as plt\n",
    "import matplotlib\n",
    "matplotlib.style.use('ggplot')\n",
    "plt.figure()\n",
    "fig = totalImports.head(10).plot(kind='bar', figsize=(15,6), title = 'The 10 Biggest Exporters of Milk to the UK', grid=True)\n",
    "fig.set_ylabel('Trade Value of Imports to the UK, Millions of Dollars')"
   ]
  },
  {
   "cell_type": "markdown",
   "metadata": {},
   "source": [
    "From the Figure above, the biggest country that exported milk to the UK in 2015 was Ireland with about 120 million dollars of trade value."
   ]
  },
  {
   "cell_type": "markdown",
   "metadata": {},
   "source": [
    "#### Exports"
   ]
  },
  {
   "cell_type": "code",
   "execution_count": 34,
   "metadata": {
    "activity": false,
    "collapsed": false
   },
   "outputs": [
    {
     "name": "stdout",
     "output_type": "stream",
     "text": [
      "The UK exports to 120 countries.\n",
      "The 5 biggest importers from the UK are:\n"
     ]
    },
    {
     "data": {
      "text/plain": [
       "Partner\n",
       "Ireland        286\n",
       "China           61\n",
       "Netherlands     43\n",
       "Germany         21\n",
       "Belgium         21\n",
       "Name: Trade Value (Millions $), dtype: float64"
      ]
     },
     "execution_count": 34,
     "metadata": {},
     "output_type": "execute_result"
    }
   ],
   "source": [
    "exports = milk[milk[FLOW] == 'Exports']\n",
    "milk[VALUE] = milk['Trade Value (US$)']\n",
    "grouped = exports.groupby([PARTNER])\n",
    "print('The UK exports to', len(grouped), 'countries.')\n",
    "print('The 5 biggest importers from the UK are:')\n",
    "totalExports = grouped[VALUE].aggregate(sum).apply(millions).order(ascending=False)\n",
    "totalExports.head()"
   ]
  },
  {
   "cell_type": "code",
   "execution_count": 116,
   "metadata": {
    "collapsed": false
   },
   "outputs": [
    {
     "data": {
      "text/plain": [
       "<matplotlib.text.Text at 0xb609650>"
      ]
     },
     "execution_count": 116,
     "metadata": {},
     "output_type": "execute_result"
    },
    {
     "data": {
      "image/png": "[encoded data removed]",
      "text/plain": [
       "<matplotlib.figure.Figure at 0xb47ae10>"
      ]
     },
     "metadata": {},
     "output_type": "display_data"
    }
   ],
   "source": [
    "plt.figure()\n",
    "fig = totalExports.head(10).plot(kind='bar', figsize=(15,6), title = 'The 10 Biggest Importers of Milk from the UK')\n",
    "fig.set_ylabel('Trade Value of Exports from the UK in Millions of Dollars')"
   ]
  },
  {
   "cell_type": "markdown",
   "metadata": {},
   "source": [
    "## Regular importers\n",
    "\n",
    "Given that there are two commodities, the third question, 'Which are the regular customers, i.e. which countries buy milk from the UK every month?', is meant in the sense that a regular customer imports both commodities every month. This means that if the exports dataframe is grouped by country, each group has exactly 24 rows (two commodities bought each month of 2015). To see the countries, only the first month of one commodity has to be listed, as by definition it's the same countries every month and for the other commodity."
   ]
  },
  {
   "cell_type": "code",
   "execution_count": 75,
   "metadata": {
    "activity": false,
    "collapsed": false
   },
   "outputs": [
    {
     "data": {
      "text/html": [
       "<div>\n",
       "<table border=\"1\" class=\"dataframe\">\n",
       "  <thead>\n",
       "    <tr style=\"text-align: right;\">\n",
       "      <th></th>\n",
       "      <th>Partner</th>\n",
       "      <th>Trade Value (US$)</th>\n",
       "    </tr>\n",
       "  </thead>\n",
       "  <tbody>\n",
       "    <tr>\n",
       "      <th>466</th>\n",
       "      <td>Belgium</td>\n",
       "      <td>142610</td>\n",
       "    </tr>\n",
       "    <tr>\n",
       "      <th>469</th>\n",
       "      <td>China</td>\n",
       "      <td>1013141</td>\n",
       "    </tr>\n",
       "    <tr>\n",
       "      <th>473</th>\n",
       "      <td>Cyprus</td>\n",
       "      <td>6625</td>\n",
       "    </tr>\n",
       "    <tr>\n",
       "      <th>478</th>\n",
       "      <td>Denmark</td>\n",
       "      <td>107883</td>\n",
       "    </tr>\n",
       "    <tr>\n",
       "      <th>482</th>\n",
       "      <td>France</td>\n",
       "      <td>178262</td>\n",
       "    </tr>\n",
       "    <tr>\n",
       "      <th>485</th>\n",
       "      <td>Germany</td>\n",
       "      <td>2588380</td>\n",
       "    </tr>\n",
       "    <tr>\n",
       "      <th>490</th>\n",
       "      <td>China, Hong Kong SAR</td>\n",
       "      <td>1110086</td>\n",
       "    </tr>\n",
       "    <tr>\n",
       "      <th>691</th>\n",
       "      <td>Hungary</td>\n",
       "      <td>2119</td>\n",
       "    </tr>\n",
       "    <tr>\n",
       "      <th>695</th>\n",
       "      <td>Ireland</td>\n",
       "      <td>4020981</td>\n",
       "    </tr>\n",
       "    <tr>\n",
       "      <th>697</th>\n",
       "      <td>Italy</td>\n",
       "      <td>23267</td>\n",
       "    </tr>\n",
       "    <tr>\n",
       "      <th>708</th>\n",
       "      <td>Malta</td>\n",
       "      <td>1403</td>\n",
       "    </tr>\n",
       "    <tr>\n",
       "      <th>711</th>\n",
       "      <td>Netherlands</td>\n",
       "      <td>3788929</td>\n",
       "    </tr>\n",
       "    <tr>\n",
       "      <th>714</th>\n",
       "      <td>Poland</td>\n",
       "      <td>10145</td>\n",
       "    </tr>\n",
       "    <tr>\n",
       "      <th>716</th>\n",
       "      <td>Portugal</td>\n",
       "      <td>3165</td>\n",
       "    </tr>\n",
       "    <tr>\n",
       "      <th>724</th>\n",
       "      <td>Spain</td>\n",
       "      <td>10107</td>\n",
       "    </tr>\n",
       "    <tr>\n",
       "      <th>729</th>\n",
       "      <td>United Arab Emirates</td>\n",
       "      <td>417480</td>\n",
       "    </tr>\n",
       "  </tbody>\n",
       "</table>\n",
       "</div>"
      ],
      "text/plain": [
       "                  Partner  Trade Value (US$)\n",
       "466               Belgium             142610\n",
       "469                 China            1013141\n",
       "473                Cyprus               6625\n",
       "478               Denmark             107883\n",
       "482                France             178262\n",
       "485               Germany            2588380\n",
       "490  China, Hong Kong SAR            1110086\n",
       "691               Hungary               2119\n",
       "695               Ireland            4020981\n",
       "697                 Italy              23267\n",
       "708                 Malta               1403\n",
       "711           Netherlands            3788929\n",
       "714                Poland              10145\n",
       "716              Portugal               3165\n",
       "724                 Spain              10107\n",
       "729  United Arab Emirates             417480"
      ]
     },
     "execution_count": 75,
     "metadata": {},
     "output_type": "execute_result"
    }
   ],
   "source": [
    "def buysEveryMonth(group):\n",
    "    return len(group) == 24\n",
    "\n",
    "grouped = exports.groupby([PARTNER])\n",
    "regular = grouped.filter(buysEveryMonth)\n",
    "regular[(regular[MONTH] == 201501) & (regular[COMMODITY] == 'processed')][[PARTNER, VALUE]]"
   ]
  },
  {
   "cell_type": "code",
   "execution_count": 67,
   "metadata": {
    "collapsed": false
   },
   "outputs": [
    {
     "data": {
      "text/plain": [
       "76"
      ]
     },
     "execution_count": 67,
     "metadata": {},
     "output_type": "execute_result"
    }
   ],
   "source": [
    "int((regular[VALUE].sum() *10**(-6) / trades[0])*100)"
   ]
  },
  {
   "cell_type": "markdown",
   "metadata": {},
   "source": [
    "About 76% of the total UK exports are due to these regular customers."
   ]
  },
  {
   "cell_type": "markdown",
   "metadata": {},
   "source": [
    "### Weak Importers"
   ]
  },
  {
   "cell_type": "code",
   "execution_count": 80,
   "metadata": {
    "collapsed": false
   },
   "outputs": [
    {
     "data": {
      "text/plain": [
       "<matplotlib.axes._subplots.AxesSubplot at 0xadbc2d0>"
      ]
     },
     "execution_count": 80,
     "metadata": {},
     "output_type": "execute_result"
    },
    {
     "data": {
      "image/png": "[encoded data removed]",
      "text/plain": [
       "<matplotlib.figure.Figure at 0xb2810d0>"
      ]
     },
     "metadata": {},
     "output_type": "display_data"
    }
   ],
   "source": [
    "VALUE = 'Trade Value (US$)'\n",
    "totalExports = grouped[VALUE].aggregate(sum).order(ascending=False)\n",
    "totalExports.tail(10).plot(kind='bar', figsize=(15,5))"
   ]
  },
  {
   "cell_type": "markdown",
   "metadata": {},
   "source": [
    "## Bi-directional trade\n",
    "\n",
    "To address the fourth question, \n",
    "'Which countries does the UK both import from and export to?', a pivot table is used to list the total export and import value for each country. "
   ]
  },
  {
   "cell_type": "code",
   "execution_count": 82,
   "metadata": {
    "activity": false,
    "collapsed": false
   },
   "outputs": [
    {
     "data": {
      "text/html": [
       "<div>\n",
       "<table border=\"1\" class=\"dataframe\">\n",
       "  <thead>\n",
       "    <tr style=\"text-align: right;\">\n",
       "      <th>Trade Flow</th>\n",
       "      <th>Exports</th>\n",
       "      <th>Imports</th>\n",
       "      <th>All</th>\n",
       "    </tr>\n",
       "    <tr>\n",
       "      <th>Partner</th>\n",
       "      <th></th>\n",
       "      <th></th>\n",
       "      <th></th>\n",
       "    </tr>\n",
       "  </thead>\n",
       "  <tbody>\n",
       "    <tr>\n",
       "      <th>Algeria</th>\n",
       "      <td>12535203</td>\n",
       "      <td>NaN</td>\n",
       "      <td>12535203</td>\n",
       "    </tr>\n",
       "    <tr>\n",
       "      <th>Angola</th>\n",
       "      <td>8505851</td>\n",
       "      <td>NaN</td>\n",
       "      <td>8505851</td>\n",
       "    </tr>\n",
       "    <tr>\n",
       "      <th>Antigua and Barbuda</th>\n",
       "      <td>48716</td>\n",
       "      <td>NaN</td>\n",
       "      <td>48716</td>\n",
       "    </tr>\n",
       "    <tr>\n",
       "      <th>Areas, nes</th>\n",
       "      <td>75842</td>\n",
       "      <td>NaN</td>\n",
       "      <td>75842</td>\n",
       "    </tr>\n",
       "    <tr>\n",
       "      <th>Australia</th>\n",
       "      <td>258420</td>\n",
       "      <td>NaN</td>\n",
       "      <td>258420</td>\n",
       "    </tr>\n",
       "  </tbody>\n",
       "</table>\n",
       "</div>"
      ],
      "text/plain": [
       "Trade Flow            Exports  Imports       All\n",
       "Partner                                         \n",
       "Algeria              12535203      NaN  12535203\n",
       "Angola                8505851      NaN   8505851\n",
       "Antigua and Barbuda     48716      NaN     48716\n",
       "Areas, nes              75842      NaN     75842\n",
       "Australia              258420      NaN    258420"
      ]
     },
     "execution_count": 82,
     "metadata": {},
     "output_type": "execute_result"
    }
   ],
   "source": [
    "countries = pivot_table(milk, index=[PARTNER], columns=[FLOW], \n",
    "                        values=VALUE, aggfunc=sum, margins = True)\n",
    "countries.head()"
   ]
  },
  {
   "cell_type": "markdown",
   "metadata": {},
   "source": [
    "Removing the rows with a missing value will result in only those countries with bi-directional trade flow with the UK."
   ]
  },
  {
   "cell_type": "code",
   "execution_count": 115,
   "metadata": {
    "collapsed": false
   },
   "outputs": [
    {
     "data": {
      "text/html": [
       "<div>\n",
       "<table border=\"1\" class=\"dataframe\">\n",
       "  <thead>\n",
       "    <tr style=\"text-align: right;\">\n",
       "      <th>Trade Flow</th>\n",
       "      <th>Exports</th>\n",
       "      <th>Imports</th>\n",
       "      <th>All</th>\n",
       "    </tr>\n",
       "    <tr>\n",
       "      <th>Partner</th>\n",
       "      <th></th>\n",
       "      <th></th>\n",
       "      <th></th>\n",
       "    </tr>\n",
       "  </thead>\n",
       "  <tbody>\n",
       "    <tr>\n",
       "      <th>Austria</th>\n",
       "      <td>432325</td>\n",
       "      <td>36906</td>\n",
       "      <td>469231</td>\n",
       "    </tr>\n",
       "    <tr>\n",
       "      <th>Belgium</th>\n",
       "      <td>20940081</td>\n",
       "      <td>33907417</td>\n",
       "      <td>54847498</td>\n",
       "    </tr>\n",
       "    <tr>\n",
       "      <th>Cyprus</th>\n",
       "      <td>227397</td>\n",
       "      <td>146</td>\n",
       "      <td>227543</td>\n",
       "    </tr>\n",
       "    <tr>\n",
       "      <th>Czech Rep.</th>\n",
       "      <td>26244</td>\n",
       "      <td>657215</td>\n",
       "      <td>683459</td>\n",
       "    </tr>\n",
       "    <tr>\n",
       "      <th>Denmark</th>\n",
       "      <td>1703490</td>\n",
       "      <td>35410427</td>\n",
       "      <td>37113917</td>\n",
       "    </tr>\n",
       "    <tr>\n",
       "      <th>France</th>\n",
       "      <td>20124873</td>\n",
       "      <td>68725375</td>\n",
       "      <td>88850248</td>\n",
       "    </tr>\n",
       "    <tr>\n",
       "      <th>Germany</th>\n",
       "      <td>20726071</td>\n",
       "      <td>49229326</td>\n",
       "      <td>69955397</td>\n",
       "    </tr>\n",
       "    <tr>\n",
       "      <th>Hungary</th>\n",
       "      <td>143485</td>\n",
       "      <td>6335</td>\n",
       "      <td>149820</td>\n",
       "    </tr>\n",
       "    <tr>\n",
       "      <th>Ireland</th>\n",
       "      <td>286003757</td>\n",
       "      <td>117529500</td>\n",
       "      <td>403533257</td>\n",
       "    </tr>\n",
       "    <tr>\n",
       "      <th>Italy</th>\n",
       "      <td>588896</td>\n",
       "      <td>902872</td>\n",
       "      <td>1491768</td>\n",
       "    </tr>\n",
       "    <tr>\n",
       "      <th>Latvia</th>\n",
       "      <td>33689</td>\n",
       "      <td>870</td>\n",
       "      <td>34559</td>\n",
       "    </tr>\n",
       "    <tr>\n",
       "      <th>Lithuania</th>\n",
       "      <td>8581</td>\n",
       "      <td>702822</td>\n",
       "      <td>711403</td>\n",
       "    </tr>\n",
       "    <tr>\n",
       "      <th>Luxembourg</th>\n",
       "      <td>11344</td>\n",
       "      <td>3</td>\n",
       "      <td>11347</td>\n",
       "    </tr>\n",
       "    <tr>\n",
       "      <th>Malta</th>\n",
       "      <td>557651</td>\n",
       "      <td>1632</td>\n",
       "      <td>559283</td>\n",
       "    </tr>\n",
       "    <tr>\n",
       "      <th>Netherlands</th>\n",
       "      <td>43278019</td>\n",
       "      <td>43485511</td>\n",
       "      <td>86763530</td>\n",
       "    </tr>\n",
       "    <tr>\n",
       "      <th>Poland</th>\n",
       "      <td>698159</td>\n",
       "      <td>11635324</td>\n",
       "      <td>12333483</td>\n",
       "    </tr>\n",
       "    <tr>\n",
       "      <th>Portugal</th>\n",
       "      <td>93398</td>\n",
       "      <td>507994</td>\n",
       "      <td>601392</td>\n",
       "    </tr>\n",
       "    <tr>\n",
       "      <th>Romania</th>\n",
       "      <td>128</td>\n",
       "      <td>2363032</td>\n",
       "      <td>2363160</td>\n",
       "    </tr>\n",
       "    <tr>\n",
       "      <th>Slovakia</th>\n",
       "      <td>138</td>\n",
       "      <td>40166</td>\n",
       "      <td>40304</td>\n",
       "    </tr>\n",
       "    <tr>\n",
       "      <th>Spain</th>\n",
       "      <td>3416357</td>\n",
       "      <td>14885404</td>\n",
       "      <td>18301761</td>\n",
       "    </tr>\n",
       "    <tr>\n",
       "      <th>Sweden</th>\n",
       "      <td>121333</td>\n",
       "      <td>5257298</td>\n",
       "      <td>5378631</td>\n",
       "    </tr>\n",
       "    <tr>\n",
       "      <th>United Arab Emirates</th>\n",
       "      <td>5490372</td>\n",
       "      <td>80493</td>\n",
       "      <td>5570865</td>\n",
       "    </tr>\n",
       "    <tr>\n",
       "      <th>United States of America</th>\n",
       "      <td>1223627</td>\n",
       "      <td>46044</td>\n",
       "      <td>1269671</td>\n",
       "    </tr>\n",
       "    <tr>\n",
       "      <th>All</th>\n",
       "      <td>632843931</td>\n",
       "      <td>385414414</td>\n",
       "      <td>1018258345</td>\n",
       "    </tr>\n",
       "  </tbody>\n",
       "</table>\n",
       "</div>"
      ],
      "text/plain": [
       "Trade Flow                  Exports    Imports         All\n",
       "Partner                                                   \n",
       "Austria                      432325      36906      469231\n",
       "Belgium                    20940081   33907417    54847498\n",
       "Cyprus                       227397        146      227543\n",
       "Czech Rep.                    26244     657215      683459\n",
       "Denmark                     1703490   35410427    37113917\n",
       "France                     20124873   68725375    88850248\n",
       "Germany                    20726071   49229326    69955397\n",
       "Hungary                      143485       6335      149820\n",
       "Ireland                   286003757  117529500   403533257\n",
       "Italy                        588896     902872     1491768\n",
       "Latvia                        33689        870       34559\n",
       "Lithuania                      8581     702822      711403\n",
       "Luxembourg                    11344          3       11347\n",
       "Malta                        557651       1632      559283\n",
       "Netherlands                43278019   43485511    86763530\n",
       "Poland                       698159   11635324    12333483\n",
       "Portugal                      93398     507994      601392\n",
       "Romania                         128    2363032     2363160\n",
       "Slovakia                        138      40166       40304\n",
       "Spain                       3416357   14885404    18301761\n",
       "Sweden                       121333    5257298     5378631\n",
       "United Arab Emirates        5490372      80493     5570865\n",
       "United States of America    1223627      46044     1269671\n",
       "All                       632843931  385414414  1018258345"
      ]
     },
     "execution_count": 115,
     "metadata": {},
     "output_type": "execute_result"
    }
   ],
   "source": [
    "countries.dropna()"
   ]
  },
  {
   "cell_type": "code",
   "execution_count": 114,
   "metadata": {
    "activity": false,
    "collapsed": false
   },
   "outputs": [
    {
     "data": {
      "text/plain": [
       "24"
      ]
     },
     "execution_count": 114,
     "metadata": {},
     "output_type": "execute_result"
    }
   ],
   "source": [
    "len(countries.dropna().index)"
   ]
  },
  {
   "cell_type": "code",
   "execution_count": 110,
   "metadata": {
    "collapsed": false
   },
   "outputs": [
    {
     "data": {
      "text/plain": [
       "Trade Flow\n",
       "Exports    633\n",
       "Imports    385\n",
       "Name: All, dtype: float64"
      ]
     },
     "execution_count": 110,
     "metadata": {},
     "output_type": "execute_result"
    }
   ],
   "source": [
    "# Total exports and imports\n",
    "countries.dropna()[['Exports', 'Imports']].ix['All'].apply(millions)"
   ]
  },
  {
   "cell_type": "code",
   "execution_count": 112,
   "metadata": {
    "collapsed": false
   },
   "outputs": [
    {
     "data": {
      "text/plain": [
       "248"
      ]
     },
     "execution_count": 112,
     "metadata": {},
     "output_type": "execute_result"
    }
   ],
   "source": [
    "SURPLUS = countries.dropna()[['Exports', 'Imports']].ix['All'].apply(millions)[0] -\\\n",
    "countries.dropna()[['Exports', 'Imports']].ix['All'].apply(millions)[1]\n",
    "int(SURPLUS)"
   ]
  },
  {
   "cell_type": "markdown",
   "metadata": {},
   "source": [
    "The total exports and imports trade values agree as it had been previously computed. Total exports and imports are respectively 633 and 385 million dollars. The surplus is estimated to be about 248 million dollars."
   ]
  },
  {
   "cell_type": "markdown",
   "metadata": {},
   "source": [
    "## Conclusions\n",
    "\n",
    "The milk and cream trade of the UK for 2015 was analysed in terms of which countries the UK mostly depends on for income (exports) and goods (imports). Over the period, the UK had a trade surplus of 248 100 million US dollars.\n",
    "\n",
    "Ireland is the main partner, but it imported from the UK almost the triple in value than it exported to the UK. \n",
    "\n",
    "In 2015, the UK exported to 120 countries, but only imported from 24 countries, the main ones (top five by trade value) being geographically close. China and Hong Kong are the main importers that are not also main exporters. \n",
    "\n",
    "The UK is heavily dependent on its regular customers, the 16 countries that buy all types of milk and cream every month. They contribute three quarters of the total export value.\n",
    "\n",
    "The UK has bi-directional trade (i.e. both exports and imports) with 24 countries, although for some the trade value (in US dollars) is suspiciously low, which raises questions about the data's accuracy."
   ]
  },
  {
   "cell_type": "code",
   "execution_count": null,
   "metadata": {
    "collapsed": true
   },
   "outputs": [],
   "source": []
  }
 ],
 "metadata": {
  "kernelspec": {
   "display_name": "Python 3",
   "language": "python",
   "name": "python3"
  },
  "language_info": {
   "codemirror_mode": {
    "name": "ipython",
    "version": 3
   },
   "file_extension": ".py",
   "mimetype": "text/x-python",
   "name": "python",
   "nbconvert_exporter": "python",
   "pygments_lexer": "ipython3",
   "version": "3.5.1"
  }
 },
 "nbformat": 4,
 "nbformat_minor": 0
}
